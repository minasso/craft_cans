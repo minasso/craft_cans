{
 "cells": [
  {
   "cell_type": "markdown",
   "metadata": {},
   "source": [
    "Rank American Stouts (by overall or other category)"
   ]
  },
  {
   "cell_type": "code",
   "execution_count": 1,
   "metadata": {},
   "outputs": [],
   "source": [
    "import pandas as pd"
   ]
  },
  {
   "cell_type": "code",
   "execution_count": 6,
   "metadata": {},
   "outputs": [],
   "source": [
    "from beer_fcns import make_beer_df"
   ]
  },
  {
   "cell_type": "code",
   "execution_count": 7,
   "metadata": {},
   "outputs": [],
   "source": [
    "df = make_beer_df()"
   ]
  },
  {
   "cell_type": "code",
   "execution_count": 16,
   "metadata": {},
   "outputs": [],
   "source": [
    "df = df.dropna(subset=['beer'])"
   ]
  },
  {
   "cell_type": "code",
   "execution_count": 31,
   "metadata": {},
   "outputs": [],
   "source": [
    "am_stout = df[df['style']=='American Stout']"
   ]
  },
  {
   "cell_type": "code",
   "execution_count": 32,
   "metadata": {},
   "outputs": [],
   "source": [
    "am_stout = am_stout[['brewery', 'beer', 'beer_id', 'overall', 'taste',\n",
    "       'aroma', 'appearance', 'palate']]"
   ]
  },
  {
   "cell_type": "code",
   "execution_count": 35,
   "metadata": {
    "scrolled": true
   },
   "outputs": [],
   "source": [
    "amg = am_stout.groupby(['brewery','beer']).agg({'beer_id':'count','overall':'mean','taste':'mean'})"
   ]
  },
  {
   "cell_type": "code",
   "execution_count": 36,
   "metadata": {},
   "outputs": [
    {
     "data": {
      "text/plain": [
       "count    1418.000000\n",
       "mean       17.303949\n",
       "std        98.900647\n",
       "min         1.000000\n",
       "25%         1.000000\n",
       "50%         2.000000\n",
       "75%         5.000000\n",
       "max      1810.000000\n",
       "Name: beer_id, dtype: float64"
      ]
     },
     "execution_count": 36,
     "metadata": {},
     "output_type": "execute_result"
    }
   ],
   "source": [
    "amg.beer_id.describe()"
   ]
  },
  {
   "cell_type": "code",
   "execution_count": 56,
   "metadata": {
    "scrolled": true
   },
   "outputs": [
    {
     "data": {
      "text/plain": [
       "218"
      ]
     },
     "execution_count": 56,
     "metadata": {},
     "output_type": "execute_result"
    }
   ],
   "source": [
    "len(amg[amg.beer_id>=10])"
   ]
  },
  {
   "cell_type": "code",
   "execution_count": 58,
   "metadata": {},
   "outputs": [],
   "source": [
    "keepers = amg[amg.beer_id>=10]"
   ]
  },
  {
   "cell_type": "code",
   "execution_count": 68,
   "metadata": {},
   "outputs": [],
   "source": [
    "keepers = keepers.sort_values('taste',ascending=False).reset_index()"
   ]
  },
  {
   "cell_type": "code",
   "execution_count": 70,
   "metadata": {},
   "outputs": [
    {
     "data": {
      "text/html": [
       "<div>\n",
       "<style scoped>\n",
       "    .dataframe tbody tr th:only-of-type {\n",
       "        vertical-align: middle;\n",
       "    }\n",
       "\n",
       "    .dataframe tbody tr th {\n",
       "        vertical-align: top;\n",
       "    }\n",
       "\n",
       "    .dataframe thead th {\n",
       "        text-align: right;\n",
       "    }\n",
       "</style>\n",
       "<table border=\"1\" class=\"dataframe\">\n",
       "  <thead>\n",
       "    <tr style=\"text-align: right;\">\n",
       "      <th></th>\n",
       "      <th>brewery</th>\n",
       "      <th>beer</th>\n",
       "      <th>beer_id</th>\n",
       "      <th>overall</th>\n",
       "      <th>taste</th>\n",
       "    </tr>\n",
       "  </thead>\n",
       "  <tbody>\n",
       "    <tr>\n",
       "      <th>15</th>\n",
       "      <td>Rogue Ales</td>\n",
       "      <td>Chocolate Stout</td>\n",
       "      <td>1810</td>\n",
       "      <td>4.122376</td>\n",
       "      <td>4.257735</td>\n",
       "    </tr>\n",
       "    <tr>\n",
       "      <th>136</th>\n",
       "      <td>Minhas Craft Brewery</td>\n",
       "      <td>Boatswain Chocolate Stout</td>\n",
       "      <td>11</td>\n",
       "      <td>3.590909</td>\n",
       "      <td>3.681818</td>\n",
       "    </tr>\n",
       "    <tr>\n",
       "      <th>160</th>\n",
       "      <td>Harpoon Brewery</td>\n",
       "      <td>Harpoon Chocolate Stout</td>\n",
       "      <td>207</td>\n",
       "      <td>3.497585</td>\n",
       "      <td>3.536232</td>\n",
       "    </tr>\n",
       "    <tr>\n",
       "      <th>167</th>\n",
       "      <td>Bison Brewing</td>\n",
       "      <td>Bison Organic Chocolate Stout</td>\n",
       "      <td>251</td>\n",
       "      <td>3.515936</td>\n",
       "      <td>3.503984</td>\n",
       "    </tr>\n",
       "    <tr>\n",
       "      <th>168</th>\n",
       "      <td>North Peak Brewing Company</td>\n",
       "      <td>Dubious Black Chocolate Stout</td>\n",
       "      <td>14</td>\n",
       "      <td>3.607143</td>\n",
       "      <td>3.500000</td>\n",
       "    </tr>\n",
       "    <tr>\n",
       "      <th>171</th>\n",
       "      <td>Fort Collins Brewing</td>\n",
       "      <td>Chocolate Stout</td>\n",
       "      <td>415</td>\n",
       "      <td>3.562651</td>\n",
       "      <td>3.461446</td>\n",
       "    </tr>\n",
       "    <tr>\n",
       "      <th>184</th>\n",
       "      <td>Amber's Brewing Co.</td>\n",
       "      <td>Kenmount Road Chocolate Stout</td>\n",
       "      <td>16</td>\n",
       "      <td>3.437500</td>\n",
       "      <td>3.406250</td>\n",
       "    </tr>\n",
       "    <tr>\n",
       "      <th>192</th>\n",
       "      <td>Detroit Beer Co.</td>\n",
       "      <td>Detroit Beer Co. Sanders Chocolate Stout</td>\n",
       "      <td>18</td>\n",
       "      <td>3.277778</td>\n",
       "      <td>3.305556</td>\n",
       "    </tr>\n",
       "    <tr>\n",
       "      <th>213</th>\n",
       "      <td>H.C. Berger Brewing Co.</td>\n",
       "      <td>Chocolate Stout</td>\n",
       "      <td>12</td>\n",
       "      <td>2.708333</td>\n",
       "      <td>2.916667</td>\n",
       "    </tr>\n",
       "    <tr>\n",
       "      <th>216</th>\n",
       "      <td>Hermitage Brewing</td>\n",
       "      <td>Swanton Rea's Double Chocolate Stout</td>\n",
       "      <td>13</td>\n",
       "      <td>2.423077</td>\n",
       "      <td>2.653846</td>\n",
       "    </tr>\n",
       "  </tbody>\n",
       "</table>\n",
       "</div>"
      ],
      "text/plain": [
       "                        brewery                                      beer  \\\n",
       "15                   Rogue Ales                           Chocolate Stout   \n",
       "136        Minhas Craft Brewery                 Boatswain Chocolate Stout   \n",
       "160             Harpoon Brewery                   Harpoon Chocolate Stout   \n",
       "167               Bison Brewing             Bison Organic Chocolate Stout   \n",
       "168  North Peak Brewing Company             Dubious Black Chocolate Stout   \n",
       "171        Fort Collins Brewing                           Chocolate Stout   \n",
       "184         Amber's Brewing Co.             Kenmount Road Chocolate Stout   \n",
       "192            Detroit Beer Co.  Detroit Beer Co. Sanders Chocolate Stout   \n",
       "213     H.C. Berger Brewing Co.                           Chocolate Stout   \n",
       "216           Hermitage Brewing      Swanton Rea's Double Chocolate Stout   \n",
       "\n",
       "     beer_id   overall     taste  \n",
       "15      1810  4.122376  4.257735  \n",
       "136       11  3.590909  3.681818  \n",
       "160      207  3.497585  3.536232  \n",
       "167      251  3.515936  3.503984  \n",
       "168       14  3.607143  3.500000  \n",
       "171      415  3.562651  3.461446  \n",
       "184       16  3.437500  3.406250  \n",
       "192       18  3.277778  3.305556  \n",
       "213       12  2.708333  2.916667  \n",
       "216       13  2.423077  2.653846  "
      ]
     },
     "execution_count": 70,
     "metadata": {},
     "output_type": "execute_result"
    }
   ],
   "source": [
    "keepers[keepers['beer'].str.contains('Chocolate Stout')]"
   ]
  }
 ],
 "metadata": {
  "hide_input": false,
  "kernelspec": {
   "display_name": "Python 3",
   "language": "python",
   "name": "python3"
  },
  "language_info": {
   "codemirror_mode": {
    "name": "ipython",
    "version": 3
   },
   "file_extension": ".py",
   "mimetype": "text/x-python",
   "name": "python",
   "nbconvert_exporter": "python",
   "pygments_lexer": "ipython3",
   "version": "3.6.5"
  },
  "toc": {
   "base_numbering": 1,
   "nav_menu": {},
   "number_sections": true,
   "sideBar": true,
   "skip_h1_title": false,
   "title_cell": "Table of Contents",
   "title_sidebar": "Contents",
   "toc_cell": false,
   "toc_position": {},
   "toc_section_display": true,
   "toc_window_display": false
  },
  "varInspector": {
   "cols": {
    "lenName": 16,
    "lenType": 16,
    "lenVar": 40
   },
   "kernels_config": {
    "python": {
     "delete_cmd_postfix": "",
     "delete_cmd_prefix": "del ",
     "library": "var_list.py",
     "varRefreshCmd": "print(var_dic_list())"
    },
    "r": {
     "delete_cmd_postfix": ") ",
     "delete_cmd_prefix": "rm(",
     "library": "var_list.r",
     "varRefreshCmd": "cat(var_dic_list()) "
    }
   },
   "types_to_exclude": [
    "module",
    "function",
    "builtin_function_or_method",
    "instance",
    "_Feature"
   ],
   "window_display": false
  }
 },
 "nbformat": 4,
 "nbformat_minor": 2
}
