{
 "cells": [
  {
   "cell_type": "code",
   "execution_count": 44,
   "metadata": {},
   "outputs": [],
   "source": [
    "def make_beer_df():\n",
    "    import pandas as pd\n",
    "    cols = ['brewery_name', 'beer_name','beer_style','beer_beerid', 'beer_abv','review_overall',\n",
    "            'review_taste','review_aroma', 'review_appearance', 'review_palate', ]\n",
    "    #change path below\n",
    "    df = pd.read_csv('beer_reviews.tar.gz',usecols=cols)\n",
    "    df = df[['brewery_name', 'beer_name','beer_style','beer_beerid', 'beer_abv','review_overall',\n",
    "             'review_taste','review_aroma', 'review_appearance', 'review_palate']]\n",
    "    df.columns = ['brewery', 'beer','style','beer_id', 'abv','overall',\n",
    "             'taste','aroma', 'appearance', 'palate']\n",
    "    return df\n",
    "\n",
    "def get_rid(df,cutoff=10):\n",
    "    '''Get rid of beers with fewer than cutoff amount of reviews'''\n",
    "    vc = df['beer_id'].value_counts().to_frame(name='count')\n",
    "    beers_to_keep = list(vc[vc['count']>=cutoff].index)\n",
    "    new = df[df.beer_id.isin(beers_to_keep)]\n",
    "    return new\n",
    "\n",
    "def rank(df,rank_var='overall'):\n",
    "    ''' Rank the remaining beers by their mean overall rating '''\n",
    "    rank = df.groupby(['brewery','beer','style','abv']).agg({'beer_id':'count',\n",
    "                       'overall':'mean','taste':'mean','aroma':'mean',\n",
    "                       'palate':'mean', 'appearance':'mean'}).sort_values(rank_var,ascending=False)\n",
    "    rank = rank.rename(columns={'beer_id':'count'})\n",
    "    return rank\n",
    "\n",
    "def findrank(df,**kwargs):\n",
    "    for item in kwargs.keys():\n",
    "        df = df[df[item].str.contains(kwargs[item])].sort_values('overall',ascending=False)\n",
    "    return df\n",
    "\n",
    "def main():\n",
    "    df = make_beer_df()\n",
    "    new = get_rid(df,cutoff=35)\n",
    "    rk = rank(df = new, rank_var='overall').reset_index()\n",
    "    return rk"
   ]
  },
  {
   "cell_type": "code",
   "execution_count": 57,
   "metadata": {},
   "outputs": [],
   "source": [
    "# if __name__ == '__main__':\n",
    "#     main()"
   ]
  },
  {
   "cell_type": "code",
   "execution_count": 48,
   "metadata": {},
   "outputs": [],
   "source": [
    "# rk.to_csv('rankings.csv')"
   ]
  },
  {
   "cell_type": "code",
   "execution_count": 49,
   "metadata": {},
   "outputs": [],
   "source": [
    "# import sqlite3\n",
    "# con = sqlite3.connect('rankings.db')\n",
    "# rk.to_sql('rankings',con)"
   ]
  },
  {
   "cell_type": "code",
   "execution_count": 14,
   "metadata": {},
   "outputs": [],
   "source": [
    "# pd.options.display.max_rows = 999"
   ]
  },
  {
   "cell_type": "markdown",
   "metadata": {},
   "source": [
    "Idea: Rank different breweries based on their mean review_overall aggregate over beers"
   ]
  }
 ],
 "metadata": {
  "hide_input": false,
  "kernelspec": {
   "display_name": "Python 3",
   "language": "python",
   "name": "python3"
  },
  "language_info": {
   "codemirror_mode": {
    "name": "ipython",
    "version": 3
   },
   "file_extension": ".py",
   "mimetype": "text/x-python",
   "name": "python",
   "nbconvert_exporter": "python",
   "pygments_lexer": "ipython3",
   "version": "3.6.5"
  },
  "toc": {
   "base_numbering": 1,
   "nav_menu": {},
   "number_sections": true,
   "sideBar": true,
   "skip_h1_title": false,
   "title_cell": "Table of Contents",
   "title_sidebar": "Contents",
   "toc_cell": false,
   "toc_position": {},
   "toc_section_display": true,
   "toc_window_display": false
  },
  "varInspector": {
   "cols": {
    "lenName": 16,
    "lenType": 16,
    "lenVar": 40
   },
   "kernels_config": {
    "python": {
     "delete_cmd_postfix": "",
     "delete_cmd_prefix": "del ",
     "library": "var_list.py",
     "varRefreshCmd": "print(var_dic_list())"
    },
    "r": {
     "delete_cmd_postfix": ") ",
     "delete_cmd_prefix": "rm(",
     "library": "var_list.r",
     "varRefreshCmd": "cat(var_dic_list()) "
    }
   },
   "types_to_exclude": [
    "module",
    "function",
    "builtin_function_or_method",
    "instance",
    "_Feature"
   ],
   "window_display": false
  }
 },
 "nbformat": 4,
 "nbformat_minor": 2
}
